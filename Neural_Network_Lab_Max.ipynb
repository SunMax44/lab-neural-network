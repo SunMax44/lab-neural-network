{
 "cells": [
  {
   "cell_type": "code",
   "execution_count": 45,
   "id": "16a1be6e-7af3-4fb3-8e13-6c1366a034ba",
   "metadata": {},
   "outputs": [],
   "source": [
    "import pandas as pd\n",
    "\n",
    "car_df = pd.read_csv('marketing_customer_analysis_clean.csv')"
   ]
  },
  {
   "cell_type": "code",
   "execution_count": 46,
   "id": "2833fff7-3e6c-4aac-a66c-ff5b4ed5fc7a",
   "metadata": {},
   "outputs": [
    {
     "data": {
      "text/plain": [
       "Index(['unnamed:_0', 'customer', 'state', 'customer_lifetime_value',\n",
       "       'response', 'coverage', 'education', 'effective_to_date',\n",
       "       'employmentstatus', 'gender', 'income', 'location_code',\n",
       "       'marital_status', 'monthly_premium_auto', 'months_since_last_claim',\n",
       "       'months_since_policy_inception', 'number_of_open_complaints',\n",
       "       'number_of_policies', 'policy_type', 'policy', 'renew_offer_type',\n",
       "       'sales_channel', 'total_claim_amount', 'vehicle_class', 'vehicle_size',\n",
       "       'vehicle_type', 'month'],\n",
       "      dtype='object')"
      ]
     },
     "execution_count": 46,
     "metadata": {},
     "output_type": "execute_result"
    }
   ],
   "source": [
    "car_df.columns"
   ]
  },
  {
   "cell_type": "code",
   "execution_count": 47,
   "id": "eb0f9a23-a1ce-43c8-ab32-aff70d55172a",
   "metadata": {},
   "outputs": [
    {
     "name": "stdout",
     "output_type": "stream",
     "text": [
      "<class 'pandas.core.frame.DataFrame'>\n",
      "RangeIndex: 10910 entries, 0 to 10909\n",
      "Data columns (total 27 columns):\n",
      " #   Column                         Non-Null Count  Dtype  \n",
      "---  ------                         --------------  -----  \n",
      " 0   unnamed:_0                     10910 non-null  int64  \n",
      " 1   customer                       10910 non-null  object \n",
      " 2   state                          10910 non-null  object \n",
      " 3   customer_lifetime_value        10910 non-null  float64\n",
      " 4   response                       10910 non-null  object \n",
      " 5   coverage                       10910 non-null  object \n",
      " 6   education                      10910 non-null  object \n",
      " 7   effective_to_date              10910 non-null  object \n",
      " 8   employmentstatus               10910 non-null  object \n",
      " 9   gender                         10910 non-null  object \n",
      " 10  income                         10910 non-null  int64  \n",
      " 11  location_code                  10910 non-null  object \n",
      " 12  marital_status                 10910 non-null  object \n",
      " 13  monthly_premium_auto           10910 non-null  int64  \n",
      " 14  months_since_last_claim        10910 non-null  float64\n",
      " 15  months_since_policy_inception  10910 non-null  int64  \n",
      " 16  number_of_open_complaints      10910 non-null  float64\n",
      " 17  number_of_policies             10910 non-null  int64  \n",
      " 18  policy_type                    10910 non-null  object \n",
      " 19  policy                         10910 non-null  object \n",
      " 20  renew_offer_type               10910 non-null  object \n",
      " 21  sales_channel                  10910 non-null  object \n",
      " 22  total_claim_amount             10910 non-null  float64\n",
      " 23  vehicle_class                  10910 non-null  object \n",
      " 24  vehicle_size                   10910 non-null  object \n",
      " 25  vehicle_type                   10910 non-null  object \n",
      " 26  month                          10910 non-null  int64  \n",
      "dtypes: float64(4), int64(6), object(17)\n",
      "memory usage: 2.2+ MB\n"
     ]
    }
   ],
   "source": [
    "car_df.info()"
   ]
  },
  {
   "cell_type": "code",
   "execution_count": 48,
   "id": "27124ca1-7f9a-4c4a-aae5-822e47e39cdf",
   "metadata": {},
   "outputs": [
    {
     "data": {
      "text/plain": [
       "unnamed:_0                       10910\n",
       "customer                          9134\n",
       "state                                5\n",
       "customer_lifetime_value           8041\n",
       "response                             2\n",
       "coverage                             3\n",
       "education                            5\n",
       "effective_to_date                   59\n",
       "employmentstatus                     5\n",
       "gender                               2\n",
       "income                            5694\n",
       "location_code                        3\n",
       "marital_status                       3\n",
       "monthly_premium_auto               202\n",
       "months_since_last_claim             37\n",
       "months_since_policy_inception      100\n",
       "number_of_open_complaints            7\n",
       "number_of_policies                   9\n",
       "policy_type                          3\n",
       "policy                               9\n",
       "renew_offer_type                     4\n",
       "sales_channel                        4\n",
       "total_claim_amount                5106\n",
       "vehicle_class                        6\n",
       "vehicle_size                         3\n",
       "vehicle_type                         1\n",
       "month                                2\n",
       "dtype: int64"
      ]
     },
     "execution_count": 48,
     "metadata": {},
     "output_type": "execute_result"
    }
   ],
   "source": [
    "car_df.nunique()"
   ]
  },
  {
   "cell_type": "code",
   "execution_count": 49,
   "id": "0c30bea0-80c9-4034-9127-688ca0eb087e",
   "metadata": {},
   "outputs": [
    {
     "data": {
      "text/html": [
       "<div>\n",
       "<style scoped>\n",
       "    .dataframe tbody tr th:only-of-type {\n",
       "        vertical-align: middle;\n",
       "    }\n",
       "\n",
       "    .dataframe tbody tr th {\n",
       "        vertical-align: top;\n",
       "    }\n",
       "\n",
       "    .dataframe thead th {\n",
       "        text-align: right;\n",
       "    }\n",
       "</style>\n",
       "<table border=\"1\" class=\"dataframe\">\n",
       "  <thead>\n",
       "    <tr style=\"text-align: right;\">\n",
       "      <th></th>\n",
       "      <th>unnamed:_0</th>\n",
       "      <th>customer</th>\n",
       "      <th>state</th>\n",
       "      <th>customer_lifetime_value</th>\n",
       "      <th>response</th>\n",
       "      <th>coverage</th>\n",
       "      <th>education</th>\n",
       "      <th>effective_to_date</th>\n",
       "      <th>employmentstatus</th>\n",
       "      <th>gender</th>\n",
       "      <th>...</th>\n",
       "      <th>number_of_policies</th>\n",
       "      <th>policy_type</th>\n",
       "      <th>policy</th>\n",
       "      <th>renew_offer_type</th>\n",
       "      <th>sales_channel</th>\n",
       "      <th>total_claim_amount</th>\n",
       "      <th>vehicle_class</th>\n",
       "      <th>vehicle_size</th>\n",
       "      <th>vehicle_type</th>\n",
       "      <th>month</th>\n",
       "    </tr>\n",
       "  </thead>\n",
       "  <tbody>\n",
       "    <tr>\n",
       "      <th>0</th>\n",
       "      <td>0</td>\n",
       "      <td>DK49336</td>\n",
       "      <td>Arizona</td>\n",
       "      <td>4809.216960</td>\n",
       "      <td>No</td>\n",
       "      <td>Basic</td>\n",
       "      <td>College</td>\n",
       "      <td>2011-02-18</td>\n",
       "      <td>Employed</td>\n",
       "      <td>M</td>\n",
       "      <td>...</td>\n",
       "      <td>9</td>\n",
       "      <td>Corporate Auto</td>\n",
       "      <td>Corporate L3</td>\n",
       "      <td>Offer3</td>\n",
       "      <td>Agent</td>\n",
       "      <td>292.800000</td>\n",
       "      <td>Four-Door Car</td>\n",
       "      <td>Medsize</td>\n",
       "      <td>A</td>\n",
       "      <td>2</td>\n",
       "    </tr>\n",
       "    <tr>\n",
       "      <th>1</th>\n",
       "      <td>1</td>\n",
       "      <td>KX64629</td>\n",
       "      <td>California</td>\n",
       "      <td>2228.525238</td>\n",
       "      <td>No</td>\n",
       "      <td>Basic</td>\n",
       "      <td>College</td>\n",
       "      <td>2011-01-18</td>\n",
       "      <td>Unemployed</td>\n",
       "      <td>F</td>\n",
       "      <td>...</td>\n",
       "      <td>1</td>\n",
       "      <td>Personal Auto</td>\n",
       "      <td>Personal L3</td>\n",
       "      <td>Offer4</td>\n",
       "      <td>Call Center</td>\n",
       "      <td>744.924331</td>\n",
       "      <td>Four-Door Car</td>\n",
       "      <td>Medsize</td>\n",
       "      <td>A</td>\n",
       "      <td>1</td>\n",
       "    </tr>\n",
       "    <tr>\n",
       "      <th>2</th>\n",
       "      <td>2</td>\n",
       "      <td>LZ68649</td>\n",
       "      <td>Washington</td>\n",
       "      <td>14947.917300</td>\n",
       "      <td>No</td>\n",
       "      <td>Basic</td>\n",
       "      <td>Bachelor</td>\n",
       "      <td>2011-02-10</td>\n",
       "      <td>Employed</td>\n",
       "      <td>M</td>\n",
       "      <td>...</td>\n",
       "      <td>2</td>\n",
       "      <td>Personal Auto</td>\n",
       "      <td>Personal L3</td>\n",
       "      <td>Offer3</td>\n",
       "      <td>Call Center</td>\n",
       "      <td>480.000000</td>\n",
       "      <td>SUV</td>\n",
       "      <td>Medsize</td>\n",
       "      <td>A</td>\n",
       "      <td>2</td>\n",
       "    </tr>\n",
       "    <tr>\n",
       "      <th>3</th>\n",
       "      <td>3</td>\n",
       "      <td>XL78013</td>\n",
       "      <td>Oregon</td>\n",
       "      <td>22332.439460</td>\n",
       "      <td>Yes</td>\n",
       "      <td>Extended</td>\n",
       "      <td>College</td>\n",
       "      <td>2011-01-11</td>\n",
       "      <td>Employed</td>\n",
       "      <td>M</td>\n",
       "      <td>...</td>\n",
       "      <td>2</td>\n",
       "      <td>Corporate Auto</td>\n",
       "      <td>Corporate L3</td>\n",
       "      <td>Offer2</td>\n",
       "      <td>Branch</td>\n",
       "      <td>484.013411</td>\n",
       "      <td>Four-Door Car</td>\n",
       "      <td>Medsize</td>\n",
       "      <td>A</td>\n",
       "      <td>1</td>\n",
       "    </tr>\n",
       "    <tr>\n",
       "      <th>4</th>\n",
       "      <td>4</td>\n",
       "      <td>QA50777</td>\n",
       "      <td>Oregon</td>\n",
       "      <td>9025.067525</td>\n",
       "      <td>No</td>\n",
       "      <td>Premium</td>\n",
       "      <td>Bachelor</td>\n",
       "      <td>2011-01-17</td>\n",
       "      <td>Medical Leave</td>\n",
       "      <td>F</td>\n",
       "      <td>...</td>\n",
       "      <td>7</td>\n",
       "      <td>Personal Auto</td>\n",
       "      <td>Personal L2</td>\n",
       "      <td>Offer1</td>\n",
       "      <td>Branch</td>\n",
       "      <td>707.925645</td>\n",
       "      <td>Four-Door Car</td>\n",
       "      <td>Medsize</td>\n",
       "      <td>A</td>\n",
       "      <td>1</td>\n",
       "    </tr>\n",
       "    <tr>\n",
       "      <th>...</th>\n",
       "      <td>...</td>\n",
       "      <td>...</td>\n",
       "      <td>...</td>\n",
       "      <td>...</td>\n",
       "      <td>...</td>\n",
       "      <td>...</td>\n",
       "      <td>...</td>\n",
       "      <td>...</td>\n",
       "      <td>...</td>\n",
       "      <td>...</td>\n",
       "      <td>...</td>\n",
       "      <td>...</td>\n",
       "      <td>...</td>\n",
       "      <td>...</td>\n",
       "      <td>...</td>\n",
       "      <td>...</td>\n",
       "      <td>...</td>\n",
       "      <td>...</td>\n",
       "      <td>...</td>\n",
       "      <td>...</td>\n",
       "      <td>...</td>\n",
       "    </tr>\n",
       "    <tr>\n",
       "      <th>10905</th>\n",
       "      <td>10905</td>\n",
       "      <td>FE99816</td>\n",
       "      <td>Nevada</td>\n",
       "      <td>15563.369440</td>\n",
       "      <td>No</td>\n",
       "      <td>Premium</td>\n",
       "      <td>Bachelor</td>\n",
       "      <td>2011-01-19</td>\n",
       "      <td>Unemployed</td>\n",
       "      <td>F</td>\n",
       "      <td>...</td>\n",
       "      <td>7</td>\n",
       "      <td>Personal Auto</td>\n",
       "      <td>Personal L1</td>\n",
       "      <td>Offer3</td>\n",
       "      <td>Web</td>\n",
       "      <td>1214.400000</td>\n",
       "      <td>Luxury Car</td>\n",
       "      <td>Medsize</td>\n",
       "      <td>A</td>\n",
       "      <td>1</td>\n",
       "    </tr>\n",
       "    <tr>\n",
       "      <th>10906</th>\n",
       "      <td>10906</td>\n",
       "      <td>KX53892</td>\n",
       "      <td>Oregon</td>\n",
       "      <td>5259.444853</td>\n",
       "      <td>No</td>\n",
       "      <td>Basic</td>\n",
       "      <td>College</td>\n",
       "      <td>2011-01-06</td>\n",
       "      <td>Employed</td>\n",
       "      <td>F</td>\n",
       "      <td>...</td>\n",
       "      <td>6</td>\n",
       "      <td>Personal Auto</td>\n",
       "      <td>Personal L3</td>\n",
       "      <td>Offer2</td>\n",
       "      <td>Branch</td>\n",
       "      <td>273.018929</td>\n",
       "      <td>Four-Door Car</td>\n",
       "      <td>Medsize</td>\n",
       "      <td>A</td>\n",
       "      <td>1</td>\n",
       "    </tr>\n",
       "    <tr>\n",
       "      <th>10907</th>\n",
       "      <td>10907</td>\n",
       "      <td>TL39050</td>\n",
       "      <td>Arizona</td>\n",
       "      <td>23893.304100</td>\n",
       "      <td>No</td>\n",
       "      <td>Extended</td>\n",
       "      <td>Bachelor</td>\n",
       "      <td>2011-02-06</td>\n",
       "      <td>Employed</td>\n",
       "      <td>F</td>\n",
       "      <td>...</td>\n",
       "      <td>2</td>\n",
       "      <td>Corporate Auto</td>\n",
       "      <td>Corporate L3</td>\n",
       "      <td>Offer1</td>\n",
       "      <td>Web</td>\n",
       "      <td>381.306996</td>\n",
       "      <td>Luxury SUV</td>\n",
       "      <td>Medsize</td>\n",
       "      <td>A</td>\n",
       "      <td>2</td>\n",
       "    </tr>\n",
       "    <tr>\n",
       "      <th>10908</th>\n",
       "      <td>10908</td>\n",
       "      <td>WA60547</td>\n",
       "      <td>California</td>\n",
       "      <td>11971.977650</td>\n",
       "      <td>No</td>\n",
       "      <td>Premium</td>\n",
       "      <td>College</td>\n",
       "      <td>2011-02-13</td>\n",
       "      <td>Employed</td>\n",
       "      <td>F</td>\n",
       "      <td>...</td>\n",
       "      <td>6</td>\n",
       "      <td>Personal Auto</td>\n",
       "      <td>Personal L1</td>\n",
       "      <td>Offer1</td>\n",
       "      <td>Branch</td>\n",
       "      <td>618.288849</td>\n",
       "      <td>SUV</td>\n",
       "      <td>Medsize</td>\n",
       "      <td>A</td>\n",
       "      <td>2</td>\n",
       "    </tr>\n",
       "    <tr>\n",
       "      <th>10909</th>\n",
       "      <td>10909</td>\n",
       "      <td>IV32877</td>\n",
       "      <td>California</td>\n",
       "      <td>6857.519928</td>\n",
       "      <td>No</td>\n",
       "      <td>Basic</td>\n",
       "      <td>Bachelor</td>\n",
       "      <td>2011-01-08</td>\n",
       "      <td>Unemployed</td>\n",
       "      <td>M</td>\n",
       "      <td>...</td>\n",
       "      <td>3</td>\n",
       "      <td>Personal Auto</td>\n",
       "      <td>Personal L1</td>\n",
       "      <td>Offer4</td>\n",
       "      <td>Web</td>\n",
       "      <td>1021.719397</td>\n",
       "      <td>SUV</td>\n",
       "      <td>Medsize</td>\n",
       "      <td>A</td>\n",
       "      <td>1</td>\n",
       "    </tr>\n",
       "  </tbody>\n",
       "</table>\n",
       "<p>10910 rows × 27 columns</p>\n",
       "</div>"
      ],
      "text/plain": [
       "       unnamed:_0 customer       state  customer_lifetime_value response  \\\n",
       "0               0  DK49336     Arizona              4809.216960       No   \n",
       "1               1  KX64629  California              2228.525238       No   \n",
       "2               2  LZ68649  Washington             14947.917300       No   \n",
       "3               3  XL78013      Oregon             22332.439460      Yes   \n",
       "4               4  QA50777      Oregon              9025.067525       No   \n",
       "...           ...      ...         ...                      ...      ...   \n",
       "10905       10905  FE99816      Nevada             15563.369440       No   \n",
       "10906       10906  KX53892      Oregon              5259.444853       No   \n",
       "10907       10907  TL39050     Arizona             23893.304100       No   \n",
       "10908       10908  WA60547  California             11971.977650       No   \n",
       "10909       10909  IV32877  California              6857.519928       No   \n",
       "\n",
       "       coverage education effective_to_date employmentstatus gender  ...  \\\n",
       "0         Basic   College        2011-02-18         Employed      M  ...   \n",
       "1         Basic   College        2011-01-18       Unemployed      F  ...   \n",
       "2         Basic  Bachelor        2011-02-10         Employed      M  ...   \n",
       "3      Extended   College        2011-01-11         Employed      M  ...   \n",
       "4       Premium  Bachelor        2011-01-17    Medical Leave      F  ...   \n",
       "...         ...       ...               ...              ...    ...  ...   \n",
       "10905   Premium  Bachelor        2011-01-19       Unemployed      F  ...   \n",
       "10906     Basic   College        2011-01-06         Employed      F  ...   \n",
       "10907  Extended  Bachelor        2011-02-06         Employed      F  ...   \n",
       "10908   Premium   College        2011-02-13         Employed      F  ...   \n",
       "10909     Basic  Bachelor        2011-01-08       Unemployed      M  ...   \n",
       "\n",
       "       number_of_policies     policy_type        policy  renew_offer_type  \\\n",
       "0                       9  Corporate Auto  Corporate L3            Offer3   \n",
       "1                       1   Personal Auto   Personal L3            Offer4   \n",
       "2                       2   Personal Auto   Personal L3            Offer3   \n",
       "3                       2  Corporate Auto  Corporate L3            Offer2   \n",
       "4                       7   Personal Auto   Personal L2            Offer1   \n",
       "...                   ...             ...           ...               ...   \n",
       "10905                   7   Personal Auto   Personal L1            Offer3   \n",
       "10906                   6   Personal Auto   Personal L3            Offer2   \n",
       "10907                   2  Corporate Auto  Corporate L3            Offer1   \n",
       "10908                   6   Personal Auto   Personal L1            Offer1   \n",
       "10909                   3   Personal Auto   Personal L1            Offer4   \n",
       "\n",
       "       sales_channel  total_claim_amount  vehicle_class  vehicle_size  \\\n",
       "0              Agent          292.800000  Four-Door Car       Medsize   \n",
       "1        Call Center          744.924331  Four-Door Car       Medsize   \n",
       "2        Call Center          480.000000            SUV       Medsize   \n",
       "3             Branch          484.013411  Four-Door Car       Medsize   \n",
       "4             Branch          707.925645  Four-Door Car       Medsize   \n",
       "...              ...                 ...            ...           ...   \n",
       "10905            Web         1214.400000     Luxury Car       Medsize   \n",
       "10906         Branch          273.018929  Four-Door Car       Medsize   \n",
       "10907            Web          381.306996     Luxury SUV       Medsize   \n",
       "10908         Branch          618.288849            SUV       Medsize   \n",
       "10909            Web         1021.719397            SUV       Medsize   \n",
       "\n",
       "      vehicle_type month  \n",
       "0                A     2  \n",
       "1                A     1  \n",
       "2                A     2  \n",
       "3                A     1  \n",
       "4                A     1  \n",
       "...            ...   ...  \n",
       "10905            A     1  \n",
       "10906            A     1  \n",
       "10907            A     2  \n",
       "10908            A     2  \n",
       "10909            A     1  \n",
       "\n",
       "[10910 rows x 27 columns]"
      ]
     },
     "execution_count": 49,
     "metadata": {},
     "output_type": "execute_result"
    }
   ],
   "source": [
    "car_df"
   ]
  },
  {
   "cell_type": "code",
   "execution_count": 50,
   "id": "adfc5d7a-0ffa-4b78-80a7-a4227be066e0",
   "metadata": {},
   "outputs": [
    {
     "data": {
      "text/plain": [
       "gender\n",
       "F    5573\n",
       "M    5337\n",
       "Name: count, dtype: int64"
      ]
     },
     "execution_count": 50,
     "metadata": {},
     "output_type": "execute_result"
    }
   ],
   "source": [
    "car_df['gender'].value_counts()"
   ]
  },
  {
   "cell_type": "markdown",
   "id": "32e1f54c-e632-475f-8768-aee32998ba82",
   "metadata": {},
   "source": [
    "### Encoding of categorical variable"
   ]
  },
  {
   "cell_type": "code",
   "execution_count": 51,
   "id": "993c82d3-2ac6-417f-a0d1-18b5c85a2c22",
   "metadata": {},
   "outputs": [],
   "source": [
    "# one hot encoding for state, location, marital status, policy type, sales_channel\n",
    "\n",
    "car_df = pd.get_dummies(car_df, columns = ['state', 'location_code', 'marital_status', 'policy_type', 'sales_channel'])"
   ]
  },
  {
   "cell_type": "code",
   "execution_count": 52,
   "id": "726e4f9f-4cfa-4d40-987a-36d034fde480",
   "metadata": {},
   "outputs": [
    {
     "name": "stderr",
     "output_type": "stream",
     "text": [
      "/var/folders/72/b7zxktp96cz1n4tjk3mlbj5w0000gn/T/ipykernel_3136/1014367303.py:2: FutureWarning: Downcasting behavior in `replace` is deprecated and will be removed in a future version. To retain the old behavior, explicitly call `result.infer_objects(copy=False)`. To opt-in to the future behavior, set `pd.set_option('future.no_silent_downcasting', True)`\n",
      "  car_df['coverage'] = car_df['coverage'].replace({'Basic': 1, 'Extended': 2, 'Premium': 3})\n",
      "/var/folders/72/b7zxktp96cz1n4tjk3mlbj5w0000gn/T/ipykernel_3136/1014367303.py:6: FutureWarning: Downcasting behavior in `replace` is deprecated and will be removed in a future version. To retain the old behavior, explicitly call `result.infer_objects(copy=False)`. To opt-in to the future behavior, set `pd.set_option('future.no_silent_downcasting', True)`\n",
      "  car_df['gender'] = car_df['gender'].replace({'F': 0, 'M': 1})\n"
     ]
    }
   ],
   "source": [
    "# ordinal encoding with integers on coverage, education, \n",
    "car_df['coverage'] = car_df['coverage'].replace({'Basic': 1, 'Extended': 2, 'Premium': 3})\n",
    "\n",
    "\n",
    "#binary encoding for gender\n",
    "car_df['gender'] = car_df['gender'].replace({'F': 0, 'M': 1})"
   ]
  },
  {
   "cell_type": "code",
   "execution_count": 53,
   "id": "4331f000-f556-48b5-8614-f63125d073dd",
   "metadata": {},
   "outputs": [],
   "source": [
    "# ordinal encoding for vehicle size:\n",
    "vsize_encoding = {\n",
    "    'Small': 0,\n",
    "    'Medsize': 1,\n",
    "    'Large': 2\n",
    "}\n",
    "\n",
    "# Apply the encoding\n",
    "car_df['vehicle_size'] = car_df['vehicle_size'].map(vsize_encoding)"
   ]
  },
  {
   "cell_type": "code",
   "execution_count": 54,
   "id": "eb2fcc0d-7c28-4b4e-a3cd-671443f952e6",
   "metadata": {},
   "outputs": [],
   "source": [
    "# ordinal encoding for education\n",
    "education_encoding = {\n",
    "    'High School or Below': 1,\n",
    "    'College': 2,\n",
    "    'Bachelor': 3,\n",
    "    'Master': 4,\n",
    "    'Doctor': 5\n",
    "}\n",
    "\n",
    "# Apply the encoding\n",
    "car_df['education'] = car_df['education'].map(education_encoding)"
   ]
  },
  {
   "cell_type": "code",
   "execution_count": 55,
   "id": "be2ce84b-723d-4953-bcf5-b0a1b4215517",
   "metadata": {},
   "outputs": [
    {
     "name": "stderr",
     "output_type": "stream",
     "text": [
      "/var/folders/72/b7zxktp96cz1n4tjk3mlbj5w0000gn/T/ipykernel_3136/1463772379.py:2: FutureWarning: Downcasting behavior in `replace` is deprecated and will be removed in a future version. To retain the old behavior, explicitly call `result.infer_objects(copy=False)`. To opt-in to the future behavior, set `pd.set_option('future.no_silent_downcasting', True)`\n",
      "  car_df['response'] = car_df['response'].replace({'No': 0, 'Yes': 1})\n"
     ]
    }
   ],
   "source": [
    "#binary encoding for gender\n",
    "car_df['response'] = car_df['response'].replace({'No': 0, 'Yes': 1})"
   ]
  },
  {
   "cell_type": "code",
   "execution_count": 56,
   "id": "11659e47-cfae-4af8-9074-2aefa22a7696",
   "metadata": {},
   "outputs": [],
   "source": [
    "# embedding encoding for vehicle_class, employment_status\n",
    "\n",
    "# Create a mapping for vehicle class\n",
    "vehicle_class_mapping = {\n",
    "    'Two-Door Car': 0,\n",
    "    'Four-Door Car': 1,\n",
    "    'SUV': 2,\n",
    "    'Sports Car': 3,\n",
    "    'Luxury SUV': 4,\n",
    "    'Luxury Car': 5\n",
    "}\n",
    "\n",
    "# Map the vehicle class column to integers\n",
    "car_df['vehicle_class_encoded'] = car_df['vehicle_class'].map(vehicle_class_mapping)\n",
    "car_df #worked\n",
    "car_df.drop('vehicle_class', axis=1, inplace=True) #drop original column\n",
    "\n",
    "# then embed in model later"
   ]
  },
  {
   "cell_type": "code",
   "execution_count": 57,
   "id": "d87b8635-9112-4507-ba76-d45bf89537aa",
   "metadata": {},
   "outputs": [],
   "source": [
    "# 2nd embedding employment status\n",
    "# Create a mapping for employment_status\n",
    "employmentstatus_mapping = {\n",
    "    'Medical Leave': 0,\n",
    "    'Disabled': 1,\n",
    "    'Unemployed': 2,\n",
    "    'Retired': 3,\n",
    "    'Employed': 4\n",
    "}\n",
    "\n",
    "# Map the vehicle class column to integers\n",
    "car_df['employmentstatus_encoded'] = car_df['employmentstatus'].map(employmentstatus_mapping)\n",
    "car_df #worked\n",
    "car_df.drop('employmentstatus', axis=1, inplace=True) #drop original column\n",
    "\n",
    "# then embed in model later"
   ]
  },
  {
   "cell_type": "code",
   "execution_count": 58,
   "id": "346c25ee-d02c-48cc-82b9-6a3132049471",
   "metadata": {},
   "outputs": [
    {
     "name": "stderr",
     "output_type": "stream",
     "text": [
      "Matplotlib is building the font cache; this may take a moment.\n",
      "/var/folders/72/b7zxktp96cz1n4tjk3mlbj5w0000gn/T/ipykernel_3136/105060781.py:5: FutureWarning: \n",
      "\n",
      "`shade` is now deprecated in favor of `fill`; setting `fill=True`.\n",
      "This will become an error in seaborn v0.14.0; please update your code.\n",
      "\n",
      "  sns.kdeplot(car_df['total_claim_amount'], shade=True, color='blue')\n"
     ]
    },
    {
     "data": {
      "image/png": "[encoded data removed]",
      "text/plain": [
       "<Figure size 640x480 with 1 Axes>"
      ]
     },
     "metadata": {},
     "output_type": "display_data"
    }
   ],
   "source": [
    "# plot numerical values to see how they can be scaled\n",
    "import seaborn as sns\n",
    "import matplotlib.pyplot as plt\n",
    "\n",
    "sns.kdeplot(car_df['total_claim_amount'], shade=True, color='blue')\n",
    "plt.title('Density Plot of Total Claim Amount')\n",
    "plt.xlabel('Total Claim Amount')\n",
    "plt.ylabel('Density')\n",
    "plt.grid(True)\n",
    "plt.show()"
   ]
  },
  {
   "cell_type": "code",
   "execution_count": 59,
   "id": "c52c2902-e744-49b9-b0d7-021a78013a0e",
   "metadata": {},
   "outputs": [
    {
     "name": "stdout",
     "output_type": "stream",
     "text": [
      "   total_claim_amount  total_claim_amount_scaled\n",
      "0          292.800000                   0.101171\n",
      "1          744.924331                   0.257445\n",
      "2          480.000000                   0.165875\n",
      "3          484.013411                   0.167263\n",
      "4          707.925645                   0.244657\n"
     ]
    }
   ],
   "source": [
    "# scale numerical variables: clv, income, total_claim_amount:\n",
    "\n",
    "#the target, total claim amount:\n",
    "from sklearn.preprocessing import MinMaxScaler\n",
    "\n",
    "# Apply MinMaxScaler\n",
    "scaler = MinMaxScaler()\n",
    "\n",
    "# Reshape the Series to a 2D array\n",
    "car_df['total_claim_amount_scaled'] = scaler.fit_transform(car_df['total_claim_amount'].values.reshape(-1, 1))\n",
    "\n",
    "# Check the first few rows to verify\n",
    "print(car_df[['total_claim_amount', 'total_claim_amount_scaled']].head())"
   ]
  },
  {
   "cell_type": "code",
   "execution_count": 60,
   "id": "073acb6b-f222-4181-a164-fa9e1cda1ad8",
   "metadata": {},
   "outputs": [
    {
     "name": "stderr",
     "output_type": "stream",
     "text": [
      "/var/folders/72/b7zxktp96cz1n4tjk3mlbj5w0000gn/T/ipykernel_3136/1920652839.py:7: FutureWarning: \n",
      "\n",
      "`shade` is now deprecated in favor of `fill`; setting `fill=True`.\n",
      "This will become an error in seaborn v0.14.0; please update your code.\n",
      "\n",
      "  sns.kdeplot(car_df['income'], shade=True, color='blue')\n"
     ]
    },
    {
     "data": {
      "image/png": "[encoded data removed]",
      "text/plain": [
       "<Figure size 640x480 with 1 Axes>"
      ]
     },
     "metadata": {},
     "output_type": "display_data"
    }
   ],
   "source": [
    "# check distribution of income and clv:\n",
    "\n",
    "# plot numerical values to see how they can be scaled\n",
    "import seaborn as sns\n",
    "import matplotlib.pyplot as plt\n",
    "\n",
    "sns.kdeplot(car_df['income'], shade=True, color='blue')\n",
    "plt.title('Density Plot of Income')\n",
    "plt.xlabel('Income')\n",
    "plt.ylabel('Density')\n",
    "plt.grid(True)\n",
    "plt.show()"
   ]
  },
  {
   "cell_type": "code",
   "execution_count": 61,
   "id": "401e8232-cadf-47b1-bc83-b92a9caf69c0",
   "metadata": {},
   "outputs": [
    {
     "name": "stderr",
     "output_type": "stream",
     "text": [
      "/var/folders/72/b7zxktp96cz1n4tjk3mlbj5w0000gn/T/ipykernel_3136/3841666825.py:7: FutureWarning: \n",
      "\n",
      "`shade` is now deprecated in favor of `fill`; setting `fill=True`.\n",
      "This will become an error in seaborn v0.14.0; please update your code.\n",
      "\n",
      "  sns.kdeplot(car_df['monthly_premium_auto'], shade=True, color='blue')\n"
     ]
    },
    {
     "data": {
      "image/png": "[encoded data removed]",
      "text/plain": [
       "<Figure size 640x480 with 1 Axes>"
      ]
     },
     "metadata": {},
     "output_type": "display_data"
    }
   ],
   "source": [
    "# check distribution of monthly premium auto:\n",
    "\n",
    "# plot numerical values to see how they can be scaled\n",
    "import seaborn as sns\n",
    "import matplotlib.pyplot as plt\n",
    "\n",
    "sns.kdeplot(car_df['monthly_premium_auto'], shade=True, color='blue')\n",
    "plt.title('Density Plot of Monthly Premium Auto')\n",
    "plt.xlabel('Monthly Premium Auto')\n",
    "plt.ylabel('Density')\n",
    "plt.grid(True)\n",
    "plt.show()"
   ]
  },
  {
   "cell_type": "code",
   "execution_count": 62,
   "id": "876cbd28-2bdb-4e92-93b9-d9aca64114ca",
   "metadata": {},
   "outputs": [],
   "source": [
    "# scale monthly premium auto\n",
    "\n",
    "scaler = MinMaxScaler()\n",
    "\n",
    "# Reshape the Series to a 2D array\n",
    "car_df['monthly_premium_auto_scaled'] = scaler.fit_transform(car_df['monthly_premium_auto'].values.reshape(-1, 1))"
   ]
  },
  {
   "cell_type": "code",
   "execution_count": 63,
   "id": "f5737939-c5da-4106-83b9-1d98c11c9d4c",
   "metadata": {},
   "outputs": [],
   "source": [
    "# --> robust scaler for income because of outliers and negative values, log transformation + standard scaler for clv\n",
    "from sklearn.preprocessing import RobustScaler\n",
    "\n",
    "# Scale the income variable\n",
    "scaler_income = RobustScaler()\n",
    "car_df['income_scaled'] = scaler_income.fit_transform(car_df['income'].values.reshape(-1, 1))\n",
    "\n",
    "from sklearn.preprocessing import StandardScaler\n",
    "import numpy as np\n",
    "\n",
    "# Log-transform the CLV\n",
    "car_df['clv_log'] = np.log1p(car_df['customer_lifetime_value'])  # log(1 + x) to handle zeros\n",
    "\n",
    "# Scale the log-transformed CLV\n",
    "scaler_clv = StandardScaler()\n",
    "car_df['clv_scaled'] = scaler_clv.fit_transform(car_df['clv_log'].values.reshape(-1, 1))"
   ]
  },
  {
   "cell_type": "code",
   "execution_count": 64,
   "id": "9e6b93b3-1f49-4f33-90b3-c422703acd53",
   "metadata": {},
   "outputs": [
    {
     "name": "stdout",
     "output_type": "stream",
     "text": [
      "<class 'pandas.core.frame.DataFrame'>\n",
      "RangeIndex: 10910 entries, 0 to 10909\n",
      "Data columns (total 45 columns):\n",
      " #   Column                         Non-Null Count  Dtype  \n",
      "---  ------                         --------------  -----  \n",
      " 0   unnamed:_0                     10910 non-null  int64  \n",
      " 1   customer                       10910 non-null  object \n",
      " 2   customer_lifetime_value        10910 non-null  float64\n",
      " 3   response                       10910 non-null  int64  \n",
      " 4   coverage                       10910 non-null  int64  \n",
      " 5   education                      10910 non-null  int64  \n",
      " 6   effective_to_date              10910 non-null  object \n",
      " 7   gender                         10910 non-null  int64  \n",
      " 8   income                         10910 non-null  int64  \n",
      " 9   monthly_premium_auto           10910 non-null  int64  \n",
      " 10  months_since_last_claim        10910 non-null  float64\n",
      " 11  months_since_policy_inception  10910 non-null  int64  \n",
      " 12  number_of_open_complaints      10910 non-null  float64\n",
      " 13  number_of_policies             10910 non-null  int64  \n",
      " 14  policy                         10910 non-null  object \n",
      " 15  renew_offer_type               10910 non-null  object \n",
      " 16  total_claim_amount             10910 non-null  float64\n",
      " 17  vehicle_size                   10910 non-null  int64  \n",
      " 18  vehicle_type                   10910 non-null  object \n",
      " 19  month                          10910 non-null  int64  \n",
      " 20  state_Arizona                  10910 non-null  bool   \n",
      " 21  state_California               10910 non-null  bool   \n",
      " 22  state_Nevada                   10910 non-null  bool   \n",
      " 23  state_Oregon                   10910 non-null  bool   \n",
      " 24  state_Washington               10910 non-null  bool   \n",
      " 25  location_code_Rural            10910 non-null  bool   \n",
      " 26  location_code_Suburban         10910 non-null  bool   \n",
      " 27  location_code_Urban            10910 non-null  bool   \n",
      " 28  marital_status_Divorced        10910 non-null  bool   \n",
      " 29  marital_status_Married         10910 non-null  bool   \n",
      " 30  marital_status_Single          10910 non-null  bool   \n",
      " 31  policy_type_Corporate Auto     10910 non-null  bool   \n",
      " 32  policy_type_Personal Auto      10910 non-null  bool   \n",
      " 33  policy_type_Special Auto       10910 non-null  bool   \n",
      " 34  sales_channel_Agent            10910 non-null  bool   \n",
      " 35  sales_channel_Branch           10910 non-null  bool   \n",
      " 36  sales_channel_Call Center      10910 non-null  bool   \n",
      " 37  sales_channel_Web              10910 non-null  bool   \n",
      " 38  vehicle_class_encoded          10910 non-null  int64  \n",
      " 39  employmentstatus_encoded       10910 non-null  int64  \n",
      " 40  total_claim_amount_scaled      10910 non-null  float64\n",
      " 41  monthly_premium_auto_scaled    10910 non-null  float64\n",
      " 42  income_scaled                  10910 non-null  float64\n",
      " 43  clv_log                        10910 non-null  float64\n",
      " 44  clv_scaled                     10910 non-null  float64\n",
      "dtypes: bool(18), float64(9), int64(13), object(5)\n",
      "memory usage: 2.4+ MB\n"
     ]
    }
   ],
   "source": [
    "car_df.info()"
   ]
  },
  {
   "cell_type": "code",
   "execution_count": 78,
   "id": "1fe65020-a170-4438-8055-38a736dd19a0",
   "metadata": {},
   "outputs": [
    {
     "name": "stdout",
     "output_type": "stream",
     "text": [
      "<class 'pandas.core.frame.DataFrame'>\n",
      "RangeIndex: 10910 entries, 0 to 10909\n",
      "Data columns (total 34 columns):\n",
      " #   Column                         Non-Null Count  Dtype  \n",
      "---  ------                         --------------  -----  \n",
      " 0   response                       10910 non-null  int64  \n",
      " 1   coverage                       10910 non-null  int64  \n",
      " 2   education                      10910 non-null  int64  \n",
      " 3   gender                         10910 non-null  int64  \n",
      " 4   months_since_last_claim        10910 non-null  float64\n",
      " 5   months_since_policy_inception  10910 non-null  int64  \n",
      " 6   number_of_open_complaints      10910 non-null  float64\n",
      " 7   number_of_policies             10910 non-null  int64  \n",
      " 8   vehicle_size                   10910 non-null  int64  \n",
      " 9   month                          10910 non-null  int64  \n",
      " 10  state_Arizona                  10910 non-null  bool   \n",
      " 11  state_California               10910 non-null  bool   \n",
      " 12  state_Nevada                   10910 non-null  bool   \n",
      " 13  state_Oregon                   10910 non-null  bool   \n",
      " 14  state_Washington               10910 non-null  bool   \n",
      " 15  location_code_Rural            10910 non-null  bool   \n",
      " 16  location_code_Suburban         10910 non-null  bool   \n",
      " 17  location_code_Urban            10910 non-null  bool   \n",
      " 18  marital_status_Divorced        10910 non-null  bool   \n",
      " 19  marital_status_Married         10910 non-null  bool   \n",
      " 20  marital_status_Single          10910 non-null  bool   \n",
      " 21  policy_type_Corporate Auto     10910 non-null  bool   \n",
      " 22  policy_type_Personal Auto      10910 non-null  bool   \n",
      " 23  policy_type_Special Auto       10910 non-null  bool   \n",
      " 24  sales_channel_Agent            10910 non-null  bool   \n",
      " 25  sales_channel_Branch           10910 non-null  bool   \n",
      " 26  sales_channel_Call Center      10910 non-null  bool   \n",
      " 27  sales_channel_Web              10910 non-null  bool   \n",
      " 28  vehicle_class_encoded          10910 non-null  int64  \n",
      " 29  employmentstatus_encoded       10910 non-null  int64  \n",
      " 30  total_claim_amount_scaled      10910 non-null  float64\n",
      " 31  monthly_premium_auto_scaled    10910 non-null  float64\n",
      " 32  income_scaled                  10910 non-null  float64\n",
      " 33  clv_scaled                     10910 non-null  float64\n",
      "dtypes: bool(18), float64(6), int64(10)\n",
      "memory usage: 1.5 MB\n"
     ]
    }
   ],
   "source": [
    "car_df_features = car_df.drop(columns = ['unnamed:_0', 'customer', 'effective_to_date', 'monthly_premium_auto', 'policy', 'renew_offer_type', 'vehicle_type', 'clv_log', 'income', 'customer_lifetime_value', 'total_claim_amount'])\n",
    "car_df_features.info()"
   ]
  },
  {
   "cell_type": "code",
   "execution_count": 79,
   "id": "deeca91a-07cb-4c35-a6f0-68f5d2de110c",
   "metadata": {},
   "outputs": [],
   "source": [
    "# done encoding"
   ]
  },
  {
   "cell_type": "markdown",
   "id": "c105f653-aab0-43b3-afb7-d0eae8ace12a",
   "metadata": {},
   "source": [
    "### Create Neural Network Class and Train Model"
   ]
  },
  {
   "cell_type": "code",
   "execution_count": 80,
   "id": "ca58c14a-eedc-4452-8399-8fce825615ea",
   "metadata": {},
   "outputs": [],
   "source": [
    "from sklearn.model_selection import train_test_split\n",
    "features = car_df_features.drop(columns = ['total_claim_amount_scaled'])\n",
    "target = car_df_features['total_claim_amount_scaled']\n",
    "X_train, X_test, y_train, y_test = train_test_split(features, target, random_state = 42)"
   ]
  },
  {
   "cell_type": "code",
   "execution_count": 81,
   "id": "296d179a-f070-40b9-98b9-72d66160cd42",
   "metadata": {},
   "outputs": [],
   "source": [
    "# Convert boolean columns to integers (0/1)\n",
    "X_train = X_train.astype({col: 'int64' for col in X_train.select_dtypes('bool').columns})\n",
    "X_test = X_test.astype({col: 'int64' for col in X_test.select_dtypes('bool').columns})"
   ]
  },
  {
   "cell_type": "code",
   "execution_count": 82,
   "id": "24b488e2-ee83-4b67-9723-7c3e88a8bb32",
   "metadata": {},
   "outputs": [
    {
     "data": {
      "text/plain": [
       "response                           int64\n",
       "coverage                           int64\n",
       "education                          int64\n",
       "gender                             int64\n",
       "months_since_last_claim          float64\n",
       "months_since_policy_inception      int64\n",
       "number_of_open_complaints        float64\n",
       "number_of_policies                 int64\n",
       "vehicle_size                       int64\n",
       "month                              int64\n",
       "state_Arizona                      int64\n",
       "state_California                   int64\n",
       "state_Nevada                       int64\n",
       "state_Oregon                       int64\n",
       "state_Washington                   int64\n",
       "location_code_Rural                int64\n",
       "location_code_Suburban             int64\n",
       "location_code_Urban                int64\n",
       "marital_status_Divorced            int64\n",
       "marital_status_Married             int64\n",
       "marital_status_Single              int64\n",
       "policy_type_Corporate Auto         int64\n",
       "policy_type_Personal Auto          int64\n",
       "policy_type_Special Auto           int64\n",
       "sales_channel_Agent                int64\n",
       "sales_channel_Branch               int64\n",
       "sales_channel_Call Center          int64\n",
       "sales_channel_Web                  int64\n",
       "vehicle_class_encoded              int64\n",
       "employmentstatus_encoded           int64\n",
       "monthly_premium_auto_scaled      float64\n",
       "income_scaled                    float64\n",
       "clv_scaled                       float64\n",
       "dtype: object"
      ]
     },
     "execution_count": 82,
     "metadata": {},
     "output_type": "execute_result"
    }
   ],
   "source": [
    "X_train.dtypes"
   ]
  },
  {
   "cell_type": "code",
   "execution_count": 83,
   "id": "1babf0b5-50b6-4e85-8be1-81a9050060c0",
   "metadata": {},
   "outputs": [],
   "source": [
    "import torch\n",
    "from torch import optim\n",
    "X_train_tensor = torch.tensor(X_train.values, dtype=torch.float32)\n",
    "X_test_tensor = torch.tensor(X_test.values, dtype=torch.float32)\n",
    "y_train = np.array(y_train)\n",
    "y_test = np.array(y_test)\n",
    "y_train_tensor = torch.tensor(y_train, dtype=torch.float32).view(-1,1)\n",
    "y_test_tensor = torch.tensor(y_test, dtype=torch.float32).view(-1,1)"
   ]
  },
  {
   "cell_type": "code",
   "execution_count": 84,
   "id": "b7385296-c31a-4b16-95af-aa0931ce2175",
   "metadata": {},
   "outputs": [
    {
     "data": {
      "text/plain": [
       "torch.Size([2728, 33])"
      ]
     },
     "execution_count": 84,
     "metadata": {},
     "output_type": "execute_result"
    }
   ],
   "source": [
    "X_test_tensor.shape"
   ]
  },
  {
   "cell_type": "code",
   "execution_count": 120,
   "id": "af19d79a-1e83-4317-bab2-2a74760feb5e",
   "metadata": {},
   "outputs": [],
   "source": [
    "# model creation\n",
    "\n",
    "import torch.nn as nn\n",
    "class SimpleNN(nn.Module):\n",
    "    def __init__(self, input_size, hidden_size, output_size):\n",
    "        super(SimpleNN, self).__init__()\n",
    "        self.network = nn.Sequential(nn.Linear(input_size,hidden_size),\n",
    "                                    nn.Linear(hidden_size,output_size))\n",
    "    def forward(self, x):\n",
    "        return self.network(x)\n",
    "\n",
    "input_size = X_train_tensor.shape[1]\n",
    "hidden_size = 200\n",
    "output_size = 1\n",
    "\n",
    "model = SimpleNN(input_size, hidden_size, output_size)"
   ]
  },
  {
   "cell_type": "code",
   "execution_count": 121,
   "id": "13c7bb7b-8661-4cf0-8112-a532868f789b",
   "metadata": {},
   "outputs": [
    {
     "name": "stdout",
     "output_type": "stream",
     "text": [
      "Epoch [50/500], Loss: 0.0263\n",
      "Epoch [100/500], Loss: 0.0099\n",
      "Epoch [150/500], Loss: 0.0053\n",
      "Epoch [200/500], Loss: 0.0039\n",
      "Epoch [250/500], Loss: 0.0034\n",
      "Epoch [300/500], Loss: 0.0032\n",
      "Epoch [350/500], Loss: 0.0030\n",
      "Epoch [400/500], Loss: 0.0029\n",
      "Epoch [450/500], Loss: 0.0028\n",
      "Epoch [500/500], Loss: 0.0027\n"
     ]
    }
   ],
   "source": [
    "# Define the loss function and optimizer\n",
    "criterion = nn.MSELoss()\n",
    "optimizer = optim.Adam(model.parameters(), lr=0.001)\n",
    "\n",
    "# Training the model\n",
    "epochs = 500\n",
    "for epoch in range(epochs):\n",
    "    model.train()  # Set the model to training mode\n",
    "\n",
    "    # Forward pass\n",
    "    outputs = model(X_train_tensor)\n",
    "    loss = criterion(outputs, y_train_tensor)\n",
    "\n",
    "    # Backward pass and optimization\n",
    "    optimizer.zero_grad()\n",
    "    loss.backward()\n",
    "    optimizer.step()\n",
    "\n",
    "    if (epoch+1) % 50 == 0:\n",
    "        print(f'Epoch [{epoch+1}/{epochs}], Loss: {loss.item():.4f}')"
   ]
  },
  {
   "cell_type": "markdown",
   "id": "7e01b1c4-33bf-4fde-85b8-92370bf049fa",
   "metadata": {},
   "source": [
    "### Model Evaluation"
   ]
  },
  {
   "cell_type": "code",
   "execution_count": 122,
   "id": "1de3aafd-b172-426b-a417-ea8d4b8f359d",
   "metadata": {},
   "outputs": [
    {
     "name": "stdout",
     "output_type": "stream",
     "text": [
      "Test Loss: 0.0026\n"
     ]
    },
    {
     "data": {
      "image/png": "[encoded data removed]",
      "text/plain": [
       "<Figure size 640x480 with 1 Axes>"
      ]
     },
     "metadata": {},
     "output_type": "display_data"
    }
   ],
   "source": [
    "model.eval()  # This sets the model to evaluation mode\n",
    "with torch.no_grad():\n",
    "    predictions = model(X_test_tensor)\n",
    "    test_loss = criterion(predictions, y_test_tensor)\n",
    "    print(f'Test Loss: {test_loss.item():.4f}')\n",
    "\n",
    "# Plotting our results\n",
    "import matplotlib.pyplot as plt\n",
    "\n",
    "plt.scatter(y_test, predictions.numpy(), alpha=0.5)\n",
    "plt.xlabel('Actual Price')\n",
    "plt.ylabel('Predicted Price')\n",
    "plt.title('Actual vs Predicted Price')\n",
    "plt.show()"
   ]
  },
  {
   "cell_type": "code",
   "execution_count": 123,
   "id": "0945c209-5616-4dc4-b1ed-88aa8ba9c69b",
   "metadata": {},
   "outputs": [
    {
     "name": "stdout",
     "output_type": "stream",
     "text": [
      "R2 score: 0.7360\n"
     ]
    }
   ],
   "source": [
    "from sklearn.metrics import r2_score\n",
    "\n",
    "# Evaluate the model\n",
    "#model.eval()  # Set the model to evaluation mode\n",
    "with torch.no_grad():\n",
    "    predictions = model(X_test_tensor).numpy()\n",
    "    actuals = y_test_tensor.numpy()\n",
    "\n",
    "r2 = r2_score(actuals, predictions)\n",
    "print(f'R2 score: {r2:.4f}')"
   ]
  },
  {
   "cell_type": "markdown",
   "id": "10616afb-966f-44b6-b25e-a66229b100a7",
   "metadata": {},
   "source": [
    "### KNN on the same dataset for comparison"
   ]
  },
  {
   "cell_type": "code",
   "execution_count": 130,
   "id": "6b0ce0bd-b507-4b88-bc33-cd984e93c54d",
   "metadata": {},
   "outputs": [],
   "source": [
    "# with GridSearch to find best K\n",
    "\n",
    "#choose most important columns\n",
    "\n",
    "columns_to_add_for_KNN = ['clv_scaled', 'coverage', 'income_scaled', 'number_of_policies', 'vehicle_class_encoded', 'monthly_premium_auto_scaled', 'months_since_last_claim', 'months_since_policy_inception', 'total_claim_amount_scaled']\n",
    "\n",
    "KNN_df = car_df[columns_to_add_for_KNN]"
   ]
  },
  {
   "cell_type": "code",
   "execution_count": 135,
   "id": "743fe734-7d28-4a87-aa03-f2d495ac08fc",
   "metadata": {},
   "outputs": [],
   "source": [
    "import numpy as np\n",
    "from sklearn.model_selection import train_test_split, GridSearchCV\n",
    "from sklearn.neighbors import KNeighborsRegressor\n",
    "from sklearn.metrics import make_scorer, mean_squared_error, r2_score, mean_absolute_error\n",
    "\n",
    "features = car_df_features.drop(columns = ['total_claim_amount_scaled'])\n",
    "target = car_df_features['total_claim_amount_scaled']\n",
    "X_train, X_test, y_train, y_test = train_test_split(features, target, random_state = 42)"
   ]
  },
  {
   "cell_type": "code",
   "execution_count": 136,
   "id": "d38e9c50-b4b6-475f-8b51-e837c1985590",
   "metadata": {},
   "outputs": [
    {
     "data": {
      "text/html": [
       "<style>#sk-container-id-3 {color: black;background-color: white;}#sk-container-id-3 pre{padding: 0;}#sk-container-id-3 div.sk-toggleable {background-color: white;}#sk-container-id-3 label.sk-toggleable__label {cursor: pointer;display: block;width: 100%;margin-bottom: 0;padding: 0.3em;box-sizing: border-box;text-align: center;}#sk-container-id-3 label.sk-toggleable__label-arrow:before {content: \"▸\";float: left;margin-right: 0.25em;color: #696969;}#sk-container-id-3 label.sk-toggleable__label-arrow:hover:before {color: black;}#sk-container-id-3 div.sk-estimator:hover label.sk-toggleable__label-arrow:before {color: black;}#sk-container-id-3 div.sk-toggleable__content {max-height: 0;max-width: 0;overflow: hidden;text-align: left;background-color: #f0f8ff;}#sk-container-id-3 div.sk-toggleable__content pre {margin: 0.2em;color: black;border-radius: 0.25em;background-color: #f0f8ff;}#sk-container-id-3 input.sk-toggleable__control:checked~div.sk-toggleable__content {max-height: 200px;max-width: 100%;overflow: auto;}#sk-container-id-3 input.sk-toggleable__control:checked~label.sk-toggleable__label-arrow:before {content: \"▾\";}#sk-container-id-3 div.sk-estimator input.sk-toggleable__control:checked~label.sk-toggleable__label {background-color: #d4ebff;}#sk-container-id-3 div.sk-label input.sk-toggleable__control:checked~label.sk-toggleable__label {background-color: #d4ebff;}#sk-container-id-3 input.sk-hidden--visually {border: 0;clip: rect(1px 1px 1px 1px);clip: rect(1px, 1px, 1px, 1px);height: 1px;margin: -1px;overflow: hidden;padding: 0;position: absolute;width: 1px;}#sk-container-id-3 div.sk-estimator {font-family: monospace;background-color: #f0f8ff;border: 1px dotted black;border-radius: 0.25em;box-sizing: border-box;margin-bottom: 0.5em;}#sk-container-id-3 div.sk-estimator:hover {background-color: #d4ebff;}#sk-container-id-3 div.sk-parallel-item::after {content: \"\";width: 100%;border-bottom: 1px solid gray;flex-grow: 1;}#sk-container-id-3 div.sk-label:hover label.sk-toggleable__label {background-color: #d4ebff;}#sk-container-id-3 div.sk-serial::before {content: \"\";position: absolute;border-left: 1px solid gray;box-sizing: border-box;top: 0;bottom: 0;left: 50%;z-index: 0;}#sk-container-id-3 div.sk-serial {display: flex;flex-direction: column;align-items: center;background-color: white;padding-right: 0.2em;padding-left: 0.2em;position: relative;}#sk-container-id-3 div.sk-item {position: relative;z-index: 1;}#sk-container-id-3 div.sk-parallel {display: flex;align-items: stretch;justify-content: center;background-color: white;position: relative;}#sk-container-id-3 div.sk-item::before, #sk-container-id-3 div.sk-parallel-item::before {content: \"\";position: absolute;border-left: 1px solid gray;box-sizing: border-box;top: 0;bottom: 0;left: 50%;z-index: -1;}#sk-container-id-3 div.sk-parallel-item {display: flex;flex-direction: column;z-index: 1;position: relative;background-color: white;}#sk-container-id-3 div.sk-parallel-item:first-child::after {align-self: flex-end;width: 50%;}#sk-container-id-3 div.sk-parallel-item:last-child::after {align-self: flex-start;width: 50%;}#sk-container-id-3 div.sk-parallel-item:only-child::after {width: 0;}#sk-container-id-3 div.sk-dashed-wrapped {border: 1px dashed gray;margin: 0 0.4em 0.5em 0.4em;box-sizing: border-box;padding-bottom: 0.4em;background-color: white;}#sk-container-id-3 div.sk-label label {font-family: monospace;font-weight: bold;display: inline-block;line-height: 1.2em;}#sk-container-id-3 div.sk-label-container {text-align: center;}#sk-container-id-3 div.sk-container {/* jupyter's `normalize.less` sets `[hidden] { display: none; }` but bootstrap.min.css set `[hidden] { display: none !important; }` so we also need the `!important` here to be able to override the default hidden behavior on the sphinx rendered scikit-learn.org. See: https://github.com/scikit-learn/scikit-learn/issues/21755 */display: inline-block !important;position: relative;}#sk-container-id-3 div.sk-text-repr-fallback {display: none;}</style><div id=\"sk-container-id-3\" class=\"sk-top-container\"><div class=\"sk-text-repr-fallback\"><pre>GridSearchCV(cv=10, estimator=KNeighborsRegressor(),\n",
       "             param_grid={&#x27;n_neighbors&#x27;: range(1, 31)},\n",
       "             scoring=&#x27;neg_mean_squared_error&#x27;)</pre><b>In a Jupyter environment, please rerun this cell to show the HTML representation or trust the notebook. <br />On GitHub, the HTML representation is unable to render, please try loading this page with nbviewer.org.</b></div><div class=\"sk-container\" hidden><div class=\"sk-item sk-dashed-wrapped\"><div class=\"sk-label-container\"><div class=\"sk-label sk-toggleable\"><input class=\"sk-toggleable__control sk-hidden--visually\" id=\"sk-estimator-id-7\" type=\"checkbox\" ><label for=\"sk-estimator-id-7\" class=\"sk-toggleable__label sk-toggleable__label-arrow\">GridSearchCV</label><div class=\"sk-toggleable__content\"><pre>GridSearchCV(cv=10, estimator=KNeighborsRegressor(),\n",
       "             param_grid={&#x27;n_neighbors&#x27;: range(1, 31)},\n",
       "             scoring=&#x27;neg_mean_squared_error&#x27;)</pre></div></div></div><div class=\"sk-parallel\"><div class=\"sk-parallel-item\"><div class=\"sk-item\"><div class=\"sk-label-container\"><div class=\"sk-label sk-toggleable\"><input class=\"sk-toggleable__control sk-hidden--visually\" id=\"sk-estimator-id-8\" type=\"checkbox\" ><label for=\"sk-estimator-id-8\" class=\"sk-toggleable__label sk-toggleable__label-arrow\">estimator: KNeighborsRegressor</label><div class=\"sk-toggleable__content\"><pre>KNeighborsRegressor()</pre></div></div></div><div class=\"sk-serial\"><div class=\"sk-item\"><div class=\"sk-estimator sk-toggleable\"><input class=\"sk-toggleable__control sk-hidden--visually\" id=\"sk-estimator-id-9\" type=\"checkbox\" ><label for=\"sk-estimator-id-9\" class=\"sk-toggleable__label sk-toggleable__label-arrow\">KNeighborsRegressor</label><div class=\"sk-toggleable__content\"><pre>KNeighborsRegressor()</pre></div></div></div></div></div></div></div></div></div></div>"
      ],
      "text/plain": [
       "GridSearchCV(cv=10, estimator=KNeighborsRegressor(),\n",
       "             param_grid={'n_neighbors': range(1, 31)},\n",
       "             scoring='neg_mean_squared_error')"
      ]
     },
     "execution_count": 136,
     "metadata": {},
     "output_type": "execute_result"
    }
   ],
   "source": [
    "# Define the model\n",
    "knn = KNeighborsRegressor()\n",
    "\n",
    "# Set the range of k values to test\n",
    "param_grid = {'n_neighbors': range(1, 31)}  # Test k values from 1 to 20\n",
    "\n",
    "# Use GridSearchCV to find the best k\n",
    "grid_search = GridSearchCV(estimator=knn, param_grid=param_grid, cv=10, scoring='neg_mean_squared_error')\n",
    "grid_search.fit(X_train, y_train)"
   ]
  },
  {
   "cell_type": "code",
   "execution_count": 137,
   "id": "fa39efe6-03a6-41d9-9b4e-279a401696c1",
   "metadata": {},
   "outputs": [
    {
     "name": "stdout",
     "output_type": "stream",
     "text": [
      "Best k: 5\n"
     ]
    }
   ],
   "source": [
    "# Get the best value of k\n",
    "best_k = grid_search.best_params_['n_neighbors']\n",
    "print(f\"Best k: {best_k}\")\n",
    "\n",
    "# Train KNN with the best k\n",
    "best_knn = grid_search.best_estimator_\n",
    "\n",
    "# Evaluate on the test set\n",
    "y_pred = best_knn.predict(X_test)"
   ]
  },
  {
   "cell_type": "code",
   "execution_count": 138,
   "id": "40111218-6650-4447-bc43-d4522e52302c",
   "metadata": {},
   "outputs": [
    {
     "name": "stdout",
     "output_type": "stream",
     "text": [
      "Mean Absolute Error (MAE):  0.05\n",
      "Test Set MSE: 0.01\n",
      "Test Set R^2: 0.39\n"
     ]
    }
   ],
   "source": [
    "# Evaluate the model\n",
    "mae = mean_absolute_error(y_test, y_pred)\n",
    "mse = mean_squared_error(y_test, y_pred)\n",
    "r2 = r2_score(y_test, y_pred)\n",
    "\n",
    "print(f\"Mean Absolute Error (MAE): {mae: .2f}\")\n",
    "print(f\"Test Set MSE: {mse:.2f}\")\n",
    "print(f\"Test Set R^2: {r2:.2f}\")"
   ]
  },
  {
   "cell_type": "code",
   "execution_count": null,
   "id": "93a10157-b7c4-493e-8fce-d08d1d2904e2",
   "metadata": {},
   "outputs": [],
   "source": []
  }
 ],
 "metadata": {
  "kernelspec": {
   "display_name": "Python 3 (ipykernel)",
   "language": "python",
   "name": "python3"
  },
  "language_info": {
   "codemirror_mode": {
    "name": "ipython",
    "version": 3
   },
   "file_extension": ".py",
   "mimetype": "text/x-python",
   "name": "python",
   "nbconvert_exporter": "python",
   "pygments_lexer": "ipython3",
   "version": "3.10.15"
  }
 },
 "nbformat": 4,
 "nbformat_minor": 5
}
